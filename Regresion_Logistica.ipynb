{
 "cells": [
  {
   "cell_type": "code",
   "execution_count": 33,
   "metadata": {},
   "outputs": [],
   "source": [
    "# Librerias utilizadas en el proyecto\n",
    "\n",
    "import pandas as pd \n",
    "import numpy as np \n",
    "import seaborn as sns \n",
    "import matplotlib.pyplot as plt\n",
    "from sklearn import metrics\n",
    "from sklearn.model_selection import train_test_split\n",
    "from sklearn.linear_model import LogisticRegression\n",
    "from sklearn.metrics import classification_report, confusion_matrix\n",
    "from sklearn.metrics import RocCurveDisplay\n",
    "from sklearn.metrics import ConfusionMatrixDisplay"
   ]
  },
  {
   "cell_type": "code",
   "execution_count": 13,
   "metadata": {},
   "outputs": [
    {
     "data": {
      "text/html": [
       "<div>\n",
       "<style scoped>\n",
       "    .dataframe tbody tr th:only-of-type {\n",
       "        vertical-align: middle;\n",
       "    }\n",
       "\n",
       "    .dataframe tbody tr th {\n",
       "        vertical-align: top;\n",
       "    }\n",
       "\n",
       "    .dataframe thead th {\n",
       "        text-align: right;\n",
       "    }\n",
       "</style>\n",
       "<table border=\"1\" class=\"dataframe\">\n",
       "  <thead>\n",
       "    <tr style=\"text-align: right;\">\n",
       "      <th></th>\n",
       "      <th>age</th>\n",
       "      <th>sex</th>\n",
       "      <th>cp</th>\n",
       "      <th>trestbps</th>\n",
       "      <th>chol</th>\n",
       "      <th>fbs</th>\n",
       "      <th>restecg</th>\n",
       "      <th>thalach</th>\n",
       "      <th>exang</th>\n",
       "      <th>oldpeak</th>\n",
       "      <th>slope</th>\n",
       "      <th>ca</th>\n",
       "      <th>thal</th>\n",
       "      <th>condition</th>\n",
       "    </tr>\n",
       "  </thead>\n",
       "  <tbody>\n",
       "    <tr>\n",
       "      <th>0</th>\n",
       "      <td>69</td>\n",
       "      <td>1</td>\n",
       "      <td>0</td>\n",
       "      <td>160</td>\n",
       "      <td>234</td>\n",
       "      <td>1</td>\n",
       "      <td>2</td>\n",
       "      <td>131</td>\n",
       "      <td>0</td>\n",
       "      <td>0.1</td>\n",
       "      <td>1</td>\n",
       "      <td>1</td>\n",
       "      <td>0</td>\n",
       "      <td>0</td>\n",
       "    </tr>\n",
       "    <tr>\n",
       "      <th>1</th>\n",
       "      <td>69</td>\n",
       "      <td>0</td>\n",
       "      <td>0</td>\n",
       "      <td>140</td>\n",
       "      <td>239</td>\n",
       "      <td>0</td>\n",
       "      <td>0</td>\n",
       "      <td>151</td>\n",
       "      <td>0</td>\n",
       "      <td>1.8</td>\n",
       "      <td>0</td>\n",
       "      <td>2</td>\n",
       "      <td>0</td>\n",
       "      <td>0</td>\n",
       "    </tr>\n",
       "    <tr>\n",
       "      <th>2</th>\n",
       "      <td>66</td>\n",
       "      <td>0</td>\n",
       "      <td>0</td>\n",
       "      <td>150</td>\n",
       "      <td>226</td>\n",
       "      <td>0</td>\n",
       "      <td>0</td>\n",
       "      <td>114</td>\n",
       "      <td>0</td>\n",
       "      <td>2.6</td>\n",
       "      <td>2</td>\n",
       "      <td>0</td>\n",
       "      <td>0</td>\n",
       "      <td>0</td>\n",
       "    </tr>\n",
       "    <tr>\n",
       "      <th>3</th>\n",
       "      <td>65</td>\n",
       "      <td>1</td>\n",
       "      <td>0</td>\n",
       "      <td>138</td>\n",
       "      <td>282</td>\n",
       "      <td>1</td>\n",
       "      <td>2</td>\n",
       "      <td>174</td>\n",
       "      <td>0</td>\n",
       "      <td>1.4</td>\n",
       "      <td>1</td>\n",
       "      <td>1</td>\n",
       "      <td>0</td>\n",
       "      <td>1</td>\n",
       "    </tr>\n",
       "    <tr>\n",
       "      <th>4</th>\n",
       "      <td>64</td>\n",
       "      <td>1</td>\n",
       "      <td>0</td>\n",
       "      <td>110</td>\n",
       "      <td>211</td>\n",
       "      <td>0</td>\n",
       "      <td>2</td>\n",
       "      <td>144</td>\n",
       "      <td>1</td>\n",
       "      <td>1.8</td>\n",
       "      <td>1</td>\n",
       "      <td>0</td>\n",
       "      <td>0</td>\n",
       "      <td>0</td>\n",
       "    </tr>\n",
       "    <tr>\n",
       "      <th>5</th>\n",
       "      <td>64</td>\n",
       "      <td>1</td>\n",
       "      <td>0</td>\n",
       "      <td>170</td>\n",
       "      <td>227</td>\n",
       "      <td>0</td>\n",
       "      <td>2</td>\n",
       "      <td>155</td>\n",
       "      <td>0</td>\n",
       "      <td>0.6</td>\n",
       "      <td>1</td>\n",
       "      <td>0</td>\n",
       "      <td>2</td>\n",
       "      <td>0</td>\n",
       "    </tr>\n",
       "    <tr>\n",
       "      <th>6</th>\n",
       "      <td>63</td>\n",
       "      <td>1</td>\n",
       "      <td>0</td>\n",
       "      <td>145</td>\n",
       "      <td>233</td>\n",
       "      <td>1</td>\n",
       "      <td>2</td>\n",
       "      <td>150</td>\n",
       "      <td>0</td>\n",
       "      <td>2.3</td>\n",
       "      <td>2</td>\n",
       "      <td>0</td>\n",
       "      <td>1</td>\n",
       "      <td>0</td>\n",
       "    </tr>\n",
       "    <tr>\n",
       "      <th>7</th>\n",
       "      <td>61</td>\n",
       "      <td>1</td>\n",
       "      <td>0</td>\n",
       "      <td>134</td>\n",
       "      <td>234</td>\n",
       "      <td>0</td>\n",
       "      <td>0</td>\n",
       "      <td>145</td>\n",
       "      <td>0</td>\n",
       "      <td>2.6</td>\n",
       "      <td>1</td>\n",
       "      <td>2</td>\n",
       "      <td>0</td>\n",
       "      <td>1</td>\n",
       "    </tr>\n",
       "    <tr>\n",
       "      <th>8</th>\n",
       "      <td>60</td>\n",
       "      <td>0</td>\n",
       "      <td>0</td>\n",
       "      <td>150</td>\n",
       "      <td>240</td>\n",
       "      <td>0</td>\n",
       "      <td>0</td>\n",
       "      <td>171</td>\n",
       "      <td>0</td>\n",
       "      <td>0.9</td>\n",
       "      <td>0</td>\n",
       "      <td>0</td>\n",
       "      <td>0</td>\n",
       "      <td>0</td>\n",
       "    </tr>\n",
       "    <tr>\n",
       "      <th>9</th>\n",
       "      <td>59</td>\n",
       "      <td>1</td>\n",
       "      <td>0</td>\n",
       "      <td>178</td>\n",
       "      <td>270</td>\n",
       "      <td>0</td>\n",
       "      <td>2</td>\n",
       "      <td>145</td>\n",
       "      <td>0</td>\n",
       "      <td>4.2</td>\n",
       "      <td>2</td>\n",
       "      <td>0</td>\n",
       "      <td>2</td>\n",
       "      <td>0</td>\n",
       "    </tr>\n",
       "  </tbody>\n",
       "</table>\n",
       "</div>"
      ],
      "text/plain": [
       "   age  sex  cp  trestbps  chol  fbs  restecg  thalach  exang  oldpeak  slope  \\\n",
       "0   69    1   0       160   234    1        2      131      0      0.1      1   \n",
       "1   69    0   0       140   239    0        0      151      0      1.8      0   \n",
       "2   66    0   0       150   226    0        0      114      0      2.6      2   \n",
       "3   65    1   0       138   282    1        2      174      0      1.4      1   \n",
       "4   64    1   0       110   211    0        2      144      1      1.8      1   \n",
       "5   64    1   0       170   227    0        2      155      0      0.6      1   \n",
       "6   63    1   0       145   233    1        2      150      0      2.3      2   \n",
       "7   61    1   0       134   234    0        0      145      0      2.6      1   \n",
       "8   60    0   0       150   240    0        0      171      0      0.9      0   \n",
       "9   59    1   0       178   270    0        2      145      0      4.2      2   \n",
       "\n",
       "   ca  thal  condition  \n",
       "0   1     0          0  \n",
       "1   2     0          0  \n",
       "2   0     0          0  \n",
       "3   1     0          1  \n",
       "4   0     0          0  \n",
       "5   0     2          0  \n",
       "6   0     1          0  \n",
       "7   2     0          1  \n",
       "8   0     0          0  \n",
       "9   0     2          0  "
      ]
     },
     "execution_count": 13,
     "metadata": {},
     "output_type": "execute_result"
    }
   ],
   "source": [
    "BD = pd.read_csv('./uci.csv') # Se carga la base segun como la haya guardado \n",
    "BD.head(10)"
   ]
  },
  {
   "cell_type": "code",
   "execution_count": 5,
   "metadata": {},
   "outputs": [
    {
     "data": {
      "text/html": [
       "<div>\n",
       "<style scoped>\n",
       "    .dataframe tbody tr th:only-of-type {\n",
       "        vertical-align: middle;\n",
       "    }\n",
       "\n",
       "    .dataframe tbody tr th {\n",
       "        vertical-align: top;\n",
       "    }\n",
       "\n",
       "    .dataframe thead th {\n",
       "        text-align: right;\n",
       "    }\n",
       "</style>\n",
       "<table border=\"1\" class=\"dataframe\">\n",
       "  <thead>\n",
       "    <tr style=\"text-align: right;\">\n",
       "      <th></th>\n",
       "      <th>age</th>\n",
       "      <th>sex</th>\n",
       "      <th>cp</th>\n",
       "      <th>trestbps</th>\n",
       "      <th>chol</th>\n",
       "      <th>fbs</th>\n",
       "      <th>restecg</th>\n",
       "      <th>thalach</th>\n",
       "      <th>exang</th>\n",
       "      <th>oldpeak</th>\n",
       "      <th>slope</th>\n",
       "      <th>ca</th>\n",
       "      <th>thal</th>\n",
       "      <th>condition</th>\n",
       "    </tr>\n",
       "  </thead>\n",
       "  <tbody>\n",
       "    <tr>\n",
       "      <th>count</th>\n",
       "      <td>297.000000</td>\n",
       "      <td>297.000000</td>\n",
       "      <td>297.000000</td>\n",
       "      <td>297.000000</td>\n",
       "      <td>297.000000</td>\n",
       "      <td>297.000000</td>\n",
       "      <td>297.000000</td>\n",
       "      <td>297.000000</td>\n",
       "      <td>297.000000</td>\n",
       "      <td>297.000000</td>\n",
       "      <td>297.000000</td>\n",
       "      <td>297.000000</td>\n",
       "      <td>297.000000</td>\n",
       "      <td>297.000000</td>\n",
       "    </tr>\n",
       "    <tr>\n",
       "      <th>mean</th>\n",
       "      <td>54.542088</td>\n",
       "      <td>0.676768</td>\n",
       "      <td>2.158249</td>\n",
       "      <td>131.693603</td>\n",
       "      <td>247.350168</td>\n",
       "      <td>0.144781</td>\n",
       "      <td>0.996633</td>\n",
       "      <td>149.599327</td>\n",
       "      <td>0.326599</td>\n",
       "      <td>1.055556</td>\n",
       "      <td>0.602694</td>\n",
       "      <td>0.676768</td>\n",
       "      <td>0.835017</td>\n",
       "      <td>0.461279</td>\n",
       "    </tr>\n",
       "    <tr>\n",
       "      <th>std</th>\n",
       "      <td>9.049736</td>\n",
       "      <td>0.468500</td>\n",
       "      <td>0.964859</td>\n",
       "      <td>17.762806</td>\n",
       "      <td>51.997583</td>\n",
       "      <td>0.352474</td>\n",
       "      <td>0.994914</td>\n",
       "      <td>22.941562</td>\n",
       "      <td>0.469761</td>\n",
       "      <td>1.166123</td>\n",
       "      <td>0.618187</td>\n",
       "      <td>0.938965</td>\n",
       "      <td>0.956690</td>\n",
       "      <td>0.499340</td>\n",
       "    </tr>\n",
       "    <tr>\n",
       "      <th>min</th>\n",
       "      <td>29.000000</td>\n",
       "      <td>0.000000</td>\n",
       "      <td>0.000000</td>\n",
       "      <td>94.000000</td>\n",
       "      <td>126.000000</td>\n",
       "      <td>0.000000</td>\n",
       "      <td>0.000000</td>\n",
       "      <td>71.000000</td>\n",
       "      <td>0.000000</td>\n",
       "      <td>0.000000</td>\n",
       "      <td>0.000000</td>\n",
       "      <td>0.000000</td>\n",
       "      <td>0.000000</td>\n",
       "      <td>0.000000</td>\n",
       "    </tr>\n",
       "    <tr>\n",
       "      <th>25%</th>\n",
       "      <td>48.000000</td>\n",
       "      <td>0.000000</td>\n",
       "      <td>2.000000</td>\n",
       "      <td>120.000000</td>\n",
       "      <td>211.000000</td>\n",
       "      <td>0.000000</td>\n",
       "      <td>0.000000</td>\n",
       "      <td>133.000000</td>\n",
       "      <td>0.000000</td>\n",
       "      <td>0.000000</td>\n",
       "      <td>0.000000</td>\n",
       "      <td>0.000000</td>\n",
       "      <td>0.000000</td>\n",
       "      <td>0.000000</td>\n",
       "    </tr>\n",
       "    <tr>\n",
       "      <th>50%</th>\n",
       "      <td>56.000000</td>\n",
       "      <td>1.000000</td>\n",
       "      <td>2.000000</td>\n",
       "      <td>130.000000</td>\n",
       "      <td>243.000000</td>\n",
       "      <td>0.000000</td>\n",
       "      <td>1.000000</td>\n",
       "      <td>153.000000</td>\n",
       "      <td>0.000000</td>\n",
       "      <td>0.800000</td>\n",
       "      <td>1.000000</td>\n",
       "      <td>0.000000</td>\n",
       "      <td>0.000000</td>\n",
       "      <td>0.000000</td>\n",
       "    </tr>\n",
       "    <tr>\n",
       "      <th>75%</th>\n",
       "      <td>61.000000</td>\n",
       "      <td>1.000000</td>\n",
       "      <td>3.000000</td>\n",
       "      <td>140.000000</td>\n",
       "      <td>276.000000</td>\n",
       "      <td>0.000000</td>\n",
       "      <td>2.000000</td>\n",
       "      <td>166.000000</td>\n",
       "      <td>1.000000</td>\n",
       "      <td>1.600000</td>\n",
       "      <td>1.000000</td>\n",
       "      <td>1.000000</td>\n",
       "      <td>2.000000</td>\n",
       "      <td>1.000000</td>\n",
       "    </tr>\n",
       "    <tr>\n",
       "      <th>max</th>\n",
       "      <td>77.000000</td>\n",
       "      <td>1.000000</td>\n",
       "      <td>3.000000</td>\n",
       "      <td>200.000000</td>\n",
       "      <td>564.000000</td>\n",
       "      <td>1.000000</td>\n",
       "      <td>2.000000</td>\n",
       "      <td>202.000000</td>\n",
       "      <td>1.000000</td>\n",
       "      <td>6.200000</td>\n",
       "      <td>2.000000</td>\n",
       "      <td>3.000000</td>\n",
       "      <td>2.000000</td>\n",
       "      <td>1.000000</td>\n",
       "    </tr>\n",
       "  </tbody>\n",
       "</table>\n",
       "</div>"
      ],
      "text/plain": [
       "              age         sex          cp    trestbps        chol         fbs  \\\n",
       "count  297.000000  297.000000  297.000000  297.000000  297.000000  297.000000   \n",
       "mean    54.542088    0.676768    2.158249  131.693603  247.350168    0.144781   \n",
       "std      9.049736    0.468500    0.964859   17.762806   51.997583    0.352474   \n",
       "min     29.000000    0.000000    0.000000   94.000000  126.000000    0.000000   \n",
       "25%     48.000000    0.000000    2.000000  120.000000  211.000000    0.000000   \n",
       "50%     56.000000    1.000000    2.000000  130.000000  243.000000    0.000000   \n",
       "75%     61.000000    1.000000    3.000000  140.000000  276.000000    0.000000   \n",
       "max     77.000000    1.000000    3.000000  200.000000  564.000000    1.000000   \n",
       "\n",
       "          restecg     thalach       exang     oldpeak       slope          ca  \\\n",
       "count  297.000000  297.000000  297.000000  297.000000  297.000000  297.000000   \n",
       "mean     0.996633  149.599327    0.326599    1.055556    0.602694    0.676768   \n",
       "std      0.994914   22.941562    0.469761    1.166123    0.618187    0.938965   \n",
       "min      0.000000   71.000000    0.000000    0.000000    0.000000    0.000000   \n",
       "25%      0.000000  133.000000    0.000000    0.000000    0.000000    0.000000   \n",
       "50%      1.000000  153.000000    0.000000    0.800000    1.000000    0.000000   \n",
       "75%      2.000000  166.000000    1.000000    1.600000    1.000000    1.000000   \n",
       "max      2.000000  202.000000    1.000000    6.200000    2.000000    3.000000   \n",
       "\n",
       "             thal   condition  \n",
       "count  297.000000  297.000000  \n",
       "mean     0.835017    0.461279  \n",
       "std      0.956690    0.499340  \n",
       "min      0.000000    0.000000  \n",
       "25%      0.000000    0.000000  \n",
       "50%      0.000000    0.000000  \n",
       "75%      2.000000    1.000000  \n",
       "max      2.000000    1.000000  "
      ]
     },
     "execution_count": 5,
     "metadata": {},
     "output_type": "execute_result"
    }
   ],
   "source": [
    "# Observamos los estadisticos descriptivos de la base de datos\n",
    "BD.describe()"
   ]
  },
  {
   "cell_type": "code",
   "execution_count": 14,
   "metadata": {},
   "outputs": [
    {
     "name": "stdout",
     "output_type": "stream",
     "text": [
      "Cantidad de Registros con cero en Resultado electrocardiograma:  147\n",
      "Cantidad de Registros con cero en Depresión:  96\n",
      "Cantidad de Registros con cero en Pendiente test de depresión:  139\n",
      "Cantidad de Registros con cero en Número de vasos principales:  174\n",
      "Cantidad de Registros con cero en Talasemia:  164\n"
     ]
    },
    {
     "data": {
      "image/png": "[encoded data removed]",
      "text/plain": [
       "<Figure size 600x300 with 1 Axes>"
      ]
     },
     "metadata": {},
     "output_type": "display_data"
    }
   ],
   "source": [
    "# Creamos una figura\n",
    "plt.figure(figsize=(6, 3))\n",
    "\n",
    "# Creamos un grafico de caja para ver la distribucion del colesterol\n",
    "sns.boxplot(x=BD['chol'])\n",
    "plt.title('Identificación de Datos Faltantes y Atípicos', fontsize=10)\n",
    "\n",
    "# Observamos la cantidad de registros con cero resultados\n",
    "print(\"Cantidad de Registros con cero en Resultado electrocardiograma: \", BD['restecg'].isin([0]).sum())\n",
    "print(\"Cantidad de Registros con cero en Depresión: \", BD['oldpeak'].isin([0]).sum())\n",
    "print(\"Cantidad de Registros con cero en Pendiente test de depresión: \", BD['slope'].isin([0]).sum())\n",
    "print(\"Cantidad de Registros con cero en Número de vasos principales: \", BD['ca'].isin([0]).sum())\n",
    "print(\"Cantidad de Registros con cero en Talasemia: \", BD['thal'].isin([0]).sum())"
   ]
  },
  {
   "cell_type": "code",
   "execution_count": 15,
   "metadata": {},
   "outputs": [
    {
     "name": "stdout",
     "output_type": "stream",
     "text": [
      "Cantidad de Registros con cero en Resultado electrocardiograma:  0\n",
      "Cantidad de Registros con cero en Depresión:  0\n",
      "Cantidad de Registros con cero en Pendiente test de depresión:  0\n",
      "Cantidad de Registros con cero en Número de vasos principales:  0\n",
      "Cantidad de Registros con cero en Talasemia:  0\n"
     ]
    }
   ],
   "source": [
    "# Reemplazamos los valores en 0 por la media de cada columna\n",
    "BD['restecg'] = BD['restecg'].replace(0, BD['restecg'].mean())\n",
    "BD['oldpeak'] = BD['oldpeak'].replace(0, BD['oldpeak'].mean())\n",
    "BD['slope'] = BD['slope'].replace(0, BD['slope'].mean())\n",
    "BD['ca'] = BD['ca'].replace(0, BD['ca'].mean())\n",
    "BD['thal'] = BD['thal'].replace(0, BD['thal'].mean())\n",
    "\n",
    "# Observamos que ya no hay ningún valor en 0 en las columnas de la base de datos\n",
    "print(\"Cantidad de Registros con cero en Resultado electrocardiograma: \", BD['restecg'].isin([0]).sum())\n",
    "print(\"Cantidad de Registros con cero en Depresión: \", BD['oldpeak'].isin([0]).sum())\n",
    "print(\"Cantidad de Registros con cero en Pendiente test de depresión: \", BD['slope'].isin([0]).sum())\n",
    "print(\"Cantidad de Registros con cero en Número de vasos principales: \", BD['ca'].isin([0]).sum())\n",
    "print(\"Cantidad de Registros con cero en Talasemia: \", BD['thal'].isin([0]).sum())"
   ]
  },
  {
   "cell_type": "code",
   "execution_count": 16,
   "metadata": {},
   "outputs": [
    {
     "data": {
      "image/png": "[encoded data removed]",
      "text/plain": [
       "<Figure size 600x300 with 1 Axes>"
      ]
     },
     "metadata": {},
     "output_type": "display_data"
    }
   ],
   "source": [
    "# Creamos un gráfico para observar la distribución de la variable Ritmo cardíaco máximo\n",
    "plt.figure(figsize=(6, 3))\n",
    "sns.boxplot(x=BD['thalach'])\n",
    "plt.title('Identificación de Datos Atípicos - Ritmo Cardíaco Máximo', fontsize=10)\n",
    "plt.show()"
   ]
  },
  {
   "cell_type": "code",
   "execution_count": 17,
   "metadata": {},
   "outputs": [
    {
     "name": "stdout",
     "output_type": "stream",
     "text": [
      "El total de datos atípicos es 9\n"
     ]
    }
   ],
   "source": [
    "# Definimos los niveles mínimo y máximo del ritmo cardíaco\n",
    "nivel_minimo = 100\n",
    "nivel_maximo = 200\n",
    "\n",
    "# Observamos la cantidad de datos atípicos en la variable Ritmo cardíaco máximo\n",
    "Total_Atipicos = ((BD['thalach'] < nivel_minimo) | (BD['thalach'] > nivel_maximo)).sum()\n",
    "print(\"El total de datos atípicos es {}\".format(Total_Atipicos))"
   ]
  },
  {
   "cell_type": "code",
   "execution_count": 18,
   "metadata": {},
   "outputs": [
    {
     "name": "stdout",
     "output_type": "stream",
     "text": [
      "Tamaño del dataset después de eliminar datos atípicos:  (288, 14)\n"
     ]
    }
   ],
   "source": [
    "# Eliminamos los datos atípicos\n",
    "BD = BD[(BD['thalach'] < nivel_maximo) & (BD['thalach'] > nivel_minimo)]\n",
    "\n",
    "# Verificamos el tamaño del nuevo dataset\n",
    "print(\"Tamaño del dataset después de eliminar datos atípicos: \", BD.shape)"
   ]
  },
  {
   "cell_type": "code",
   "execution_count": 19,
   "metadata": {},
   "outputs": [
    {
     "name": "stdout",
     "output_type": "stream",
     "text": [
      "El total de datos atípicos es 0\n"
     ]
    }
   ],
   "source": [
    "# Observamos nuevamente la cantidad de datos atípicos en la variable Ritmo cardíaco máximo\n",
    "Total_Atipicos = ((BD['thalach'] < nivel_minimo) | (BD['thalach'] > nivel_maximo)).sum()\n",
    "print(\"El total de datos atípicos es {}\".format(Total_Atipicos))"
   ]
  },
  {
   "cell_type": "code",
   "execution_count": 20,
   "metadata": {},
   "outputs": [
    {
     "name": "stdout",
     "output_type": "stream",
     "text": [
      "<class 'pandas.core.frame.DataFrame'>\n",
      "Index: 288 entries, 0 to 296\n",
      "Data columns (total 14 columns):\n",
      " #   Column     Non-Null Count  Dtype  \n",
      "---  ------     --------------  -----  \n",
      " 0   age        288 non-null    int64  \n",
      " 1   sex        288 non-null    int64  \n",
      " 2   cp         288 non-null    int64  \n",
      " 3   trestbps   288 non-null    int64  \n",
      " 4   chol       288 non-null    int64  \n",
      " 5   fbs        288 non-null    int64  \n",
      " 6   restecg    288 non-null    float64\n",
      " 7   thalach    288 non-null    int64  \n",
      " 8   exang      288 non-null    int64  \n",
      " 9   oldpeak    288 non-null    float64\n",
      " 10  slope      288 non-null    float64\n",
      " 11  ca         288 non-null    float64\n",
      " 12  thal       288 non-null    float64\n",
      " 13  condition  288 non-null    int64  \n",
      "dtypes: float64(5), int64(9)\n",
      "memory usage: 33.8 KB\n"
     ]
    }
   ],
   "source": [
    "# Observamos la informacion de la base de datos\n",
    "BD.info()"
   ]
  },
  {
   "cell_type": "code",
   "execution_count": 21,
   "metadata": {},
   "outputs": [
    {
     "data": {
      "text/plain": [
       "condition\n",
       "0    158\n",
       "1    130\n",
       "Name: count, dtype: int64"
      ]
     },
     "execution_count": 21,
     "metadata": {},
     "output_type": "execute_result"
    }
   ],
   "source": [
    "# Realizamos un conteo de cada valor de la variable Diagnóstico de enfermedad cardíaca\n",
    "BD['condition'].value_counts()"
   ]
  },
  {
   "cell_type": "code",
   "execution_count": 27,
   "metadata": {},
   "outputs": [
    {
     "name": "stdout",
     "output_type": "stream",
     "text": [
      "     age  sex  cp  trestbps  chol  fbs   restecg  thalach  exang   oldpeak  \\\n",
      "131   48    1   2       124   255    1  0.996633      175      0  1.055556   \n",
      "142   43    0   2       122   213    0  0.996633      165      0  0.200000   \n",
      "244   54    1   3       124   266    0  2.000000      109      1  2.200000   \n",
      "26    66    1   1       160   246    0  0.996633      120      1  1.055556   \n",
      "54    46    1   1       101   197    1  0.996633      156      0  1.055556   \n",
      "..   ...  ...  ..       ...   ...  ...       ...      ...    ...       ...   \n",
      "172   65    1   3       120   177    0  0.996633      140      0  0.400000   \n",
      "267   48    1   3       124   274    0  2.000000      166      0  0.500000   \n",
      "180   63    0   3       150   407    0  2.000000      154      0  4.000000   \n",
      "277   45    1   3       142   309    0  2.000000      147      1  1.055556   \n",
      "233   57    1   3       132   207    0  0.996633      168      1  1.055556   \n",
      "\n",
      "        slope        ca      thal  \n",
      "131  0.602694  2.000000  0.835017  \n",
      "142  1.000000  0.676768  0.835017  \n",
      "244  1.000000  1.000000  2.000000  \n",
      "26   1.000000  3.000000  1.000000  \n",
      "54   0.602694  0.676768  2.000000  \n",
      "..        ...       ...       ...  \n",
      "172  0.602694  0.676768  2.000000  \n",
      "267  1.000000  0.676768  2.000000  \n",
      "180  1.000000  3.000000  2.000000  \n",
      "277  1.000000  3.000000  2.000000  \n",
      "233  0.602694  0.676768  2.000000  \n",
      "\n",
      "[216 rows x 13 columns]\n"
     ]
    }
   ],
   "source": [
    "# Definimos cuál es la variable dependiente y el conjunto de características\n",
    "X = BD.drop('condition', axis=1)  # Eliminamos la columna 'condition' del conjunto de características\n",
    "Y = BD['condition']  # Definimos la variable dependiente (diagnóstico)\n",
    "\n",
    "# Dividimos la base de datos en entrenamiento y prueba\n",
    "X_train, X_test, Y_train, Y_test = train_test_split(X, Y, test_size=0.25, stratify=Y, random_state=0)\n",
    "\n",
    "# Imprimimos el conjunto de características de entrenamiento\n",
    "print(X_train)"
   ]
  },
  {
   "cell_type": "code",
   "execution_count": 28,
   "metadata": {},
   "outputs": [
    {
     "name": "stdout",
     "output_type": "stream",
     "text": [
      "131    0\n",
      "142    0\n",
      "244    1\n",
      "26     1\n",
      "54     0\n",
      "      ..\n",
      "172    0\n",
      "267    1\n",
      "180    1\n",
      "277    1\n",
      "233    0\n",
      "Name: condition, Length: 216, dtype: int64\n"
     ]
    }
   ],
   "source": [
    "# Imprimimos los datos de la variable dependiente de entrenamiento\n",
    "print(Y_train)"
   ]
  },
  {
   "cell_type": "code",
   "execution_count": 29,
   "metadata": {},
   "outputs": [
    {
     "name": "stdout",
     "output_type": "stream",
     "text": [
      "Valores reales de la variable dependiente en el conjunto de prueba:\n",
      "276    0\n",
      "119    0\n",
      "253    0\n",
      "220    1\n",
      "285    0\n",
      "      ..\n",
      "74     1\n",
      "139    0\n",
      "110    0\n",
      "224    1\n",
      "105    0\n",
      "Name: condition, Length: 72, dtype: int64\n"
     ]
    }
   ],
   "source": [
    "# Creamos el modelo de regresión logística\n",
    "modelo_regresion = LogisticRegression(solver=\"liblinear\")\n",
    "modelo_regresion.fit(X_train, Y_train)  # Ajustamos el modelo con los datos de entrenamiento\n",
    "\n",
    "# Realizamos la predicción\n",
    "Prediccion = modelo_regresion.predict(X_test)\n",
    "\n",
    "# Imprimimos los valores de la variable dependiente de prueba\n",
    "print(\"Valores reales de la variable dependiente en el conjunto de prueba:\")\n",
    "print(Y_test)"
   ]
  },
  {
   "cell_type": "code",
   "execution_count": 30,
   "metadata": {},
   "outputs": [
    {
     "name": "stdout",
     "output_type": "stream",
     "text": [
      "Predicciones realizadas por el modelo:\n",
      "[0 0 0 1 0 1 1 1 0 0 0 1 1 1 0 1 0 0 0 0 0 1 0 0 0 1 0 0 1 0 1 1 1 0 1 0 1\n",
      " 0 0 0 1 0 0 1 0 0 0 0 1 0 0 1 0 0 1 0 0 0 0 1 1 1 1 0 1 1 0 1 0 0 1 0]\n"
     ]
    }
   ],
   "source": [
    "# Mostramos la predicción realizada por el modelo\n",
    "print(\"Predicciones realizadas por el modelo:\")\n",
    "print(Prediccion)"
   ]
  },
  {
   "cell_type": "code",
   "execution_count": 31,
   "metadata": {},
   "outputs": [
    {
     "name": "stdout",
     "output_type": "stream",
     "text": [
      "Informe de clasificación:\n",
      "              precision    recall  f1-score   support\n",
      "\n",
      "           0       0.84      0.92      0.88        39\n",
      "           1       0.90      0.79      0.84        33\n",
      "\n",
      "    accuracy                           0.86        72\n",
      "   macro avg       0.87      0.86      0.86        72\n",
      "weighted avg       0.86      0.86      0.86        72\n",
      "\n"
     ]
    }
   ],
   "source": [
    "# Imprimimos el informe de clasificación\n",
    "print(\"Informe de clasificación:\")\n",
    "print(classification_report(Y_test, Prediccion))"
   ]
  },
  {
   "cell_type": "code",
   "execution_count": 34,
   "metadata": {},
   "outputs": [
    {
     "data": {
      "image/png": "[encoded data removed]",
      "text/plain": [
       "<Figure size 640x480 with 2 Axes>"
      ]
     },
     "metadata": {},
     "output_type": "display_data"
    }
   ],
   "source": [
    "# Creamos la matriz de confusión\n",
    "cm = confusion_matrix(Y_test, Prediccion)\n",
    "\n",
    "# Creamos un objeto para mostrar la matriz de confusión\n",
    "disp = ConfusionMatrixDisplay(confusion_matrix=cm)\n",
    "\n",
    "# Mostramos la matriz de confusión\n",
    "disp.plot(cmap='Blues')  # Puedes cambiar el cmap para otros esquemas de color\n",
    "plt.title('Matriz de Confusión')\n",
    "plt.show()  # Asegúrate de mostrar la gráfica"
   ]
  },
  {
   "cell_type": "code",
   "execution_count": 35,
   "metadata": {},
   "outputs": [
    {
     "data": {
      "image/png": "[encoded data removed]",
      "text/plain": [
       "<Figure size 640x480 with 1 Axes>"
      ]
     },
     "metadata": {},
     "output_type": "display_data"
    }
   ],
   "source": [
    "# Creamos la curva ROC\n",
    "RocCurveDisplay.from_predictions(Y_test, Prediccion)\n",
    "\n",
    "# Mostramos la gráfica de la curva ROC\n",
    "plt.title('Curva ROC')\n",
    "plt.show()"
   ]
  },
  {
   "cell_type": "code",
   "execution_count": null,
   "metadata": {},
   "outputs": [],
   "source": []
  },
  {
   "cell_type": "code",
   "execution_count": null,
   "metadata": {},
   "outputs": [],
   "source": []
  }
 ],
 "metadata": {
  "kernelspec": {
   "display_name": "Python 3 (ipykernel)",
   "language": "python",
   "name": "python3"
  },
  "language_info": {
   "codemirror_mode": {
    "name": "ipython",
    "version": 3
   },
   "file_extension": ".py",
   "mimetype": "text/x-python",
   "name": "python",
   "nbconvert_exporter": "python",
   "pygments_lexer": "ipython3",
   "version": "3.12.4"
  }
 },
 "nbformat": 4,
 "nbformat_minor": 4
}
